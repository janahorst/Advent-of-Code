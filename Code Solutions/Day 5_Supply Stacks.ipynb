{
 "cells": [
  {
   "cell_type": "code",
   "execution_count": 1,
   "id": "7524d4da",
   "metadata": {},
   "outputs": [],
   "source": [
    "import numpy as np\n",
    "import pandas as pd\n",
    "import copy"
   ]
  },
  {
   "cell_type": "markdown",
   "id": "6987fd14",
   "metadata": {},
   "source": [
    "Load data of the day."
   ]
  },
  {
   "cell_type": "code",
   "execution_count": 2,
   "id": "65f48aae",
   "metadata": {},
   "outputs": [],
   "source": [
    "with open(\"input/5input.txt\") as f:\n",
    "    day05 = f.readlines()"
   ]
  },
  {
   "cell_type": "code",
   "execution_count": 3,
   "id": "287f7e1b",
   "metadata": {},
   "outputs": [],
   "source": [
    "day05 = [l.strip('\\n\\r') for l in day05]"
   ]
  },
  {
   "cell_type": "markdown",
   "id": "7798c935",
   "metadata": {},
   "source": [
    "Get the two different data sets. First the order of the crates, second the instruction for reordering the crates."
   ]
  },
  {
   "cell_type": "code",
   "execution_count": 4,
   "id": "7ba1047b",
   "metadata": {
    "scrolled": true
   },
   "outputs": [],
   "source": [
    "# Create crates and instruction lists\n",
    "crates = day05[:8]\n",
    "instructions = day05[10:]"
   ]
  },
  {
   "cell_type": "markdown",
   "id": "d9cb3c9a",
   "metadata": {},
   "source": [
    "#### Take a look at our data for today:"
   ]
  },
  {
   "cell_type": "code",
   "execution_count": 5,
   "id": "19d78dd2",
   "metadata": {
    "scrolled": true
   },
   "outputs": [
    {
     "data": {
      "text/plain": [
       "['                [B] [L]     [J]    ',\n",
       " '            [B] [Q] [R]     [D] [T]',\n",
       " '            [G] [H] [H] [M] [N] [F]',\n",
       " '        [J] [N] [D] [F] [J] [H] [B]',\n",
       " '    [Q] [F] [W] [S] [V] [N] [F] [N]',\n",
       " '[W] [N] [H] [M] [L] [B] [R] [T] [Q]',\n",
       " '[L] [T] [C] [R] [R] [J] [W] [Z] [L]',\n",
       " '[S] [J] [S] [T] [T] [M] [D] [B] [H]']"
      ]
     },
     "execution_count": 5,
     "metadata": {},
     "output_type": "execute_result"
    }
   ],
   "source": [
    "crates"
   ]
  },
  {
   "cell_type": "code",
   "execution_count": 6,
   "id": "f35ef787",
   "metadata": {},
   "outputs": [
    {
     "data": {
      "text/plain": [
       "['move 5 from 4 to 5',\n",
       " 'move 2 from 5 to 8',\n",
       " 'move 2 from 9 to 1',\n",
       " 'move 2 from 9 to 1',\n",
       " 'move 1 from 5 to 3']"
      ]
     },
     "execution_count": 6,
     "metadata": {},
     "output_type": "execute_result"
    }
   ],
   "source": [
    "instructions[:5]"
   ]
  },
  {
   "cell_type": "markdown",
   "id": "153c3922",
   "metadata": {},
   "source": [
    "# First: Prepare Crates"
   ]
  },
  {
   "cell_type": "markdown",
   "id": "93446bcc",
   "metadata": {},
   "source": [
    "Loop over all characters of the lists. Goal is to get one single list of all characters in the order of the columns. The order will represent the crates."
   ]
  },
  {
   "cell_type": "code",
   "execution_count": 7,
   "id": "23be3441",
   "metadata": {},
   "outputs": [],
   "source": [
    "list_crates = list()\n",
    "row = 0\n",
    "col = 1\n",
    "\n",
    "while len(crates) > 0:\n",
    "    new = crates[row][col]\n",
    "    if row < 7:\n",
    "        row += 1\n",
    "    elif row == 7:\n",
    "        row = 0\n",
    "        col += 4\n",
    "    list_crates.append(new)\n",
    "    \n",
    "    if row == 7 and col == 33:\n",
    "        list_crates.append(crates[-1][-2])\n",
    "        break"
   ]
  },
  {
   "cell_type": "markdown",
   "id": "66b31ece",
   "metadata": {},
   "source": [
    "Divide the big list into 8 small list. Every list is now the order of letters in a crate."
   ]
  },
  {
   "cell_type": "code",
   "execution_count": 8,
   "id": "cc837d35",
   "metadata": {},
   "outputs": [
    {
     "data": {
      "text/plain": [
       "[[' ', ' ', ' ', ' ', ' ', 'W', 'L', 'S'],\n",
       " [' ', ' ', ' ', ' ', 'Q', 'N', 'T', 'J'],\n",
       " [' ', ' ', ' ', 'J', 'F', 'H', 'C', 'S'],\n",
       " [' ', 'B', 'G', 'N', 'W', 'M', 'R', 'T'],\n",
       " ['B', 'Q', 'H', 'D', 'S', 'L', 'R', 'T'],\n",
       " ['L', 'R', 'H', 'F', 'V', 'B', 'J', 'M'],\n",
       " [' ', ' ', 'M', 'J', 'N', 'R', 'W', 'D'],\n",
       " ['J', 'D', 'N', 'H', 'F', 'T', 'Z', 'B'],\n",
       " [' ', 'T', 'F', 'B', 'N', 'Q', 'L', 'H']]"
      ]
     },
     "execution_count": 8,
     "metadata": {},
     "output_type": "execute_result"
    }
   ],
   "source": [
    "matrix = []\n",
    "while list_crates != []:\n",
    "  matrix.append(list_crates[:8])\n",
    "  list_crates = list_crates[8:]\n",
    "\n",
    "matrix"
   ]
  },
  {
   "cell_type": "markdown",
   "id": "ac2e9043",
   "metadata": {},
   "source": [
    "Delete all '  ' from the lists. The lists only contain the letters of the crates."
   ]
  },
  {
   "cell_type": "code",
   "execution_count": 9,
   "id": "ca4d66e5",
   "metadata": {
    "scrolled": true
   },
   "outputs": [
    {
     "data": {
      "text/plain": [
       "[['W', 'L', 'S'],\n",
       " ['Q', 'N', 'T', 'J'],\n",
       " ['J', 'F', 'H', 'C', 'S'],\n",
       " ['B', 'G', 'N', 'W', 'M', 'R', 'T'],\n",
       " ['B', 'Q', 'H', 'D', 'S', 'L', 'R', 'T'],\n",
       " ['L', 'R', 'H', 'F', 'V', 'B', 'J', 'M'],\n",
       " ['M', 'J', 'N', 'R', 'W', 'D'],\n",
       " ['J', 'D', 'N', 'H', 'F', 'T', 'Z', 'B'],\n",
       " ['T', 'F', 'B', 'N', 'Q', 'L', 'H']]"
      ]
     },
     "execution_count": 9,
     "metadata": {},
     "output_type": "execute_result"
    }
   ],
   "source": [
    "mat = list()\n",
    "\n",
    "for i in matrix:\n",
    "    mat.append([s for s in i if s != ' '])\n",
    "    \n",
    "mat"
   ]
  },
  {
   "cell_type": "markdown",
   "id": "bc3b07fc",
   "metadata": {},
   "source": [
    "Create 2 independent copys of our crates for the 2 different parts."
   ]
  },
  {
   "cell_type": "code",
   "execution_count": 10,
   "id": "1ecb3169",
   "metadata": {},
   "outputs": [],
   "source": [
    "m_part1 = copy.deepcopy(mat)\n",
    "m_part2 = copy.deepcopy(mat)"
   ]
  },
  {
   "cell_type": "markdown",
   "id": "b5734049",
   "metadata": {},
   "source": [
    "# Second: Prepare instructions"
   ]
  },
  {
   "cell_type": "markdown",
   "id": "6f3c62d7",
   "metadata": {},
   "source": [
    "We only need the numbers from the instruction. Because indexing in Python starts with 0, we decrease the values from 'from' and 'to' by 1 each. Than we can use the crate number for indexing."
   ]
  },
  {
   "cell_type": "code",
   "execution_count": 11,
   "id": "3636f1f4",
   "metadata": {},
   "outputs": [
    {
     "data": {
      "text/plain": [
       "['move 5 from 4 to 5',\n",
       " 'move 2 from 5 to 8',\n",
       " 'move 2 from 9 to 1',\n",
       " 'move 2 from 9 to 1',\n",
       " 'move 1 from 5 to 3']"
      ]
     },
     "execution_count": 11,
     "metadata": {},
     "output_type": "execute_result"
    }
   ],
   "source": [
    "instructions[:5]"
   ]
  },
  {
   "cell_type": "code",
   "execution_count": 12,
   "id": "f4a57acb",
   "metadata": {},
   "outputs": [
    {
     "data": {
      "text/plain": [
       "[[5, 3, 4], [2, 4, 7], [2, 8, 0], [2, 8, 0], [1, 4, 2]]"
      ]
     },
     "execution_count": 12,
     "metadata": {},
     "output_type": "execute_result"
    }
   ],
   "source": [
    "instr = list()\n",
    "\n",
    "\n",
    "for i in instructions:\n",
    "    \n",
    "    #delete move, form and to so we only have numbers at the end\n",
    "    a = i.replace('move ', '')\n",
    "    a = a.replace('from', '')\n",
    "    a = a.replace('to', '')\n",
    "    \n",
    "    #split the 1 string of numbers into single characters\n",
    "    b = a.split()\n",
    "    \n",
    "    #decrease only the second and third number by 1 and keep the first as it is.\n",
    "    move = int(b[0])\n",
    "    fr   = int(b[1])-1\n",
    "    to   = int(b[2])-1\n",
    "    \n",
    "    #Add the updated numbers to a list\n",
    "    c = list()\n",
    "    c.extend([move, fr, to])\n",
    "   \n",
    "    #And finaly save all list into a list\n",
    "    instr.append(c)\n",
    "    \n",
    "instr[:5]"
   ]
  },
  {
   "cell_type": "markdown",
   "id": "a524a61d",
   "metadata": {},
   "source": [
    "# Solution Part 1"
   ]
  },
  {
   "cell_type": "code",
   "execution_count": 13,
   "id": "e19fc79c",
   "metadata": {},
   "outputs": [
    {
     "name": "stdout",
     "output_type": "stream",
     "text": [
      "RLFNRTNFB"
     ]
    }
   ],
   "source": [
    "for i in instr:\n",
    "\n",
    "    # select instruction\n",
    "    a = i[0] #number of elements to move\n",
    "    b = i[1] #from where\n",
    "    c = i[2] #to where\n",
    "    \n",
    "    d = m_part1[b][:a] #elements to move\n",
    "    \n",
    "    d.reverse() #reverse the elements because only one letter can be moved at a time\n",
    "    \n",
    "    m_part1[c] = d + m_part1[c] #new goal block\n",
    "\n",
    "    del[m_part1[b][:a]] #del old elements\n",
    "    \n",
    "for i in m_part1:\n",
    "    print(i[0], end = '')"
   ]
  },
  {
   "cell_type": "markdown",
   "id": "8f771890",
   "metadata": {},
   "source": [
    "# Solution Part 2"
   ]
  },
  {
   "cell_type": "code",
   "execution_count": 15,
   "id": "f92cd1f0",
   "metadata": {},
   "outputs": [
    {
     "name": "stdout",
     "output_type": "stream",
     "text": [
      "MHQTLJRLB"
     ]
    }
   ],
   "source": [
    "for i in instr:\n",
    "\n",
    "    # select instruction\n",
    "    a = i[0] #number of elements to move\n",
    "    b = i[1] #from where\n",
    "    c = i[2] #to where\n",
    "    \n",
    "    d = m_part2[b][:a] #elements to move\n",
    "    \n",
    "    m_part2[c] = d + m_part2[c] #new goal block\n",
    "\n",
    "    del[m_part2[b][:a]] #del old elements\n",
    "    \n",
    "for i in m_part2:\n",
    "    print(i[0],end = '')"
   ]
  }
 ],
 "metadata": {
  "kernelspec": {
   "display_name": "Python 3 (ipykernel)",
   "language": "python",
   "name": "python3"
  },
  "language_info": {
   "codemirror_mode": {
    "name": "ipython",
    "version": 3
   },
   "file_extension": ".py",
   "mimetype": "text/x-python",
   "name": "python",
   "nbconvert_exporter": "python",
   "pygments_lexer": "ipython3",
   "version": "3.9.15"
  }
 },
 "nbformat": 4,
 "nbformat_minor": 5
}
